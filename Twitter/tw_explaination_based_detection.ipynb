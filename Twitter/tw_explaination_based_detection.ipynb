{
 "cells": [
  {
   "cell_type": "code",
   "execution_count": null,
   "metadata": {},
   "outputs": [],
   "source": [
    "# @authors: Raj Vardhan"
   ]
  },
  {
   "cell_type": "markdown",
   "metadata": {},
   "source": [
    "<h1> Explanation based detection of adversarial samples for Twitter</h1>\n",
    "<br>\n",
    "<p>\n",
    "This notebook trains a classifier on the explanations of benign (class 0) and adversarial (class 1) samples.\n",
    "The explanations of a sample are in the form of a binary feature vector (same dimension as sample) where top k indices with highest gradient are 1 and rest are 0"
   ]
  },
  {
   "cell_type": "code",
   "execution_count": 1,
   "metadata": {
    "collapsed": true
   },
   "outputs": [
    {
     "ename": "RuntimeError",
     "evalue": "module compiled against API version 0xc but this version of numpy is 0xb",
     "output_type": "error",
     "traceback": [
      "\u001b[0;31m---------------------------------------------------------------------------\u001b[0m",
      "\u001b[0;31mRuntimeError\u001b[0m                              Traceback (most recent call last)",
      "\u001b[0;31mRuntimeError\u001b[0m: module compiled against API version 0xc but this version of numpy is 0xb"
     ]
    },
    {
     "ename": "RuntimeError",
     "evalue": "module compiled against API version 0xc but this version of numpy is 0xb",
     "output_type": "error",
     "traceback": [
      "\u001b[0;31m---------------------------------------------------------------------------\u001b[0m",
      "\u001b[0;31mRuntimeError\u001b[0m                              Traceback (most recent call last)",
      "\u001b[0;31mRuntimeError\u001b[0m: module compiled against API version 0xc but this version of numpy is 0xb"
     ]
    },
    {
     "name": "stderr",
     "output_type": "stream",
     "text": [
      "Using TensorFlow backend.\n"
     ]
    }
   ],
   "source": [
    "import tensorflow as tf \n",
    "import pickle\n",
    "import numpy as np\n",
    "import matplotlib\n",
    "import matplotlib.pyplot as plt\n",
    "import matplotlib.gridspec as gridspec\n",
    "from cleverhans.attacks import SaliencyMapMethod,FastGradientMethod,CarliniWagnerL2,DeepFool\n",
    "from cleverhans.utils import other_classes, set_log_level\n",
    "from cleverhans.utils import pair_visual, grid_visual, AccuracyReport\n",
    "from cleverhans.utils_mnist import data_mnist\n",
    "from cleverhans.utils_tf import model_train, model_eval, model_argmax\n",
    "from cleverhans.utils_keras import KerasModelWrapper, cnn_model\n",
    "from cleverhans.model import *\n",
    "\n",
    "import pandas\n",
    "import sklearn\n",
    "from keras.models import Sequential\n",
    "from keras.layers import Dense\n",
    "from keras.wrappers.scikit_learn import KerasClassifier\n",
    "from keras.utils import np_utils\n",
    "from sklearn.model_selection import cross_val_score\n",
    "from sklearn.model_selection import KFold\n",
    "from sklearn.preprocessing import LabelEncoder\n",
    "from sklearn.pipeline import Pipeline\n",
    "from keras.layers import Dense, Dropout, Activation\n",
    "import pickle\n",
    "import operator\n",
    "from keras.models import Sequential\n",
    "from graphviz import Digraph\n",
    "\n",
    "### Load data and model\n",
    "import os\n",
    "import pickle\n",
    "import numpy as np\n",
    "import matplotlib\n",
    "import matplotlib.pyplot as plt\n",
    "import matplotlib.gridspec as gridspec\n",
    "import tensorflow as tf\n",
    "import pickle\n",
    "import datetime\n",
    "from sklearn.model_selection import train_test_split"
   ]
  },
  {
   "cell_type": "code",
   "execution_count": 4,
   "metadata": {},
   "outputs": [],
   "source": [
    "seed = 7\n",
    "np.random.seed(seed)"
   ]
  },
  {
   "cell_type": "code",
   "execution_count": 5,
   "metadata": {},
   "outputs": [
    {
     "name": "stdout",
     "output_type": "stream",
     "text": [
      "no. of columns is 28\n"
     ]
    }
   ],
   "source": [
    "#Preprocessing\n",
    "gradB = np.load('twitter_data//grads_sorted_ind_benign.npy')\n",
    "gradAdv = np.load('twitter_data//grads_sorted_ind_adv.npy')\n",
    "\n",
    "#initialize explanation matrices\n",
    "eB = np.zeros(gradB.shape)\n",
    "eAdv = np.zeros(gradAdv.shape)\n",
    "\n",
    "#how many top indices should be considered?\n",
    "thresh = 8\n",
    "\n",
    "#set top indices to 1 in the overall feature vector (same dimension as input samples)\n",
    "for ind in range(gradB.shape[0]):\n",
    "    eB[ind][ gradB[ind][0:thresh] ] = 1\n",
    "\n",
    "for ind in range(gradAdv.shape[0]):\n",
    "    eAdv[ind][ gradAdv[ind][0:thresh] ] = 1\n",
    "    \n",
    "no_of_col = eB.shape[1]\n",
    "print('no. of columns is {}'.format(no_of_col))\n",
    "\n",
    "\n",
    "# Prepare X and Y for training and testing\n",
    "X_orig = np.vstack((eB, eAdv))\n",
    "\n",
    "yB = np.zeros((eB.shape[0], 1))\n",
    "yAdv = np.ones((eAdv.shape[0], 1))\n",
    "\n",
    "Y_orig = np.vstack((yB, yAdv))\n",
    "\n",
    "#shuffle the order\n",
    "indices = np.random.permutation(X_orig.shape[0])\n",
    "X = X_orig[indices]\n",
    "Y = Y_orig[indices]"
   ]
  },
  {
   "cell_type": "code",
   "execution_count": 15,
   "metadata": {},
   "outputs": [],
   "source": [
    "#Train test split\n",
    "X_train, X_test, y_train, y_test = train_test_split(X, Y, test_size=0.33, random_state=42)"
   ]
  },
  {
   "cell_type": "code",
   "execution_count": 19,
   "metadata": {},
   "outputs": [
    {
     "name": "stdout",
     "output_type": "stream",
     "text": [
      "x_train shape : (27798, 28)\n",
      "y_train shape : (27798, 1)\n",
      "x_test shape : (13692, 28)\n",
      "y_test shape : (13692, 1)\n"
     ]
    }
   ],
   "source": [
    "print('x_train shape : {}'.format(X_train.shape))\n",
    "print('y_train shape : {}'.format(y_train.shape))\n",
    "print('x_test shape : {}'.format(X_test.shape))\n",
    "print('y_test shape : {}'.format(y_test.shape))"
   ]
  },
  {
   "cell_type": "code",
   "execution_count": 7,
   "metadata": {},
   "outputs": [
    {
     "data": {
      "text/plain": [
       "'\\n# All indices where the class is Malicious\\nind=np.where(Y==1)\\n\\nxM=X[ind,:]\\n\\n# xM is malware samples\\npickle.dump(xM,open(r\"xmW_twitter.pickle\",\"wb\"))\\n'"
      ]
     },
     "execution_count": 7,
     "metadata": {},
     "output_type": "execute_result"
    }
   ],
   "source": [
    "'''\n",
    "# All indices where the class is Malicious\n",
    "ind=np.where(Y==1)\n",
    "\n",
    "xM=X[ind,:]\n",
    "\n",
    "# xM is malware samples\n",
    "pickle.dump(xM,open(r\"xmW_twitter.pickle\",\"wb\"))\n",
    "'''"
   ]
  },
  {
   "cell_type": "code",
   "execution_count": 20,
   "metadata": {},
   "outputs": [],
   "source": [
    "# encode class values as integers\n",
    "encoder = LabelEncoder()\n",
    "encoder.fit(y_train)\n",
    "encoded_Y = encoder.transform(y_train)\n",
    "# convert integers to dummy variables (i.e. one hot encoded)\n",
    "dummy_y = np_utils.to_categorical(encoded_Y)\n",
    "\n",
    "num_hidden_1 = 20\n",
    "num_hidden_2 = 20\n",
    "\n",
    "# build DNNs\n",
    "DNNmodel = Sequential()\n",
    "DNNmodel.add(Dense(num_hidden_1, input_dim = no_of_col, kernel_initializer=\"uniform\",activation=\"relu\"))\n",
    "DNNmodel.add(Dropout(0.5))\n",
    "DNNmodel.add(Dense(num_hidden_1, kernel_initializer=\"uniform\", activation=\"relu\"))\n",
    "DNNmodel.add(Dropout(0.5))\n",
    "DNNmodel.add(Dense(2))\n",
    "DNNmodel.add(Activation(\"softmax\"))"
   ]
  },
  {
   "cell_type": "code",
   "execution_count": 21,
   "metadata": {},
   "outputs": [
    {
     "name": "stdout",
     "output_type": "stream",
     "text": [
      "Train on 18624 samples, validate on 9174 samples\n",
      "Epoch 1/100\n",
      "18624/18624 [==============================] - 1s 38us/step - loss: 0.5480 - acc: 0.8112 - val_loss: 0.3555 - val_acc: 0.8903\n",
      "Epoch 2/100\n",
      "18624/18624 [==============================] - 0s 11us/step - loss: 0.3246 - acc: 0.8970 - val_loss: 0.2301 - val_acc: 0.9293\n",
      "Epoch 3/100\n",
      "18624/18624 [==============================] - 0s 10us/step - loss: 0.2538 - acc: 0.9238 - val_loss: 0.2069 - val_acc: 0.9324\n",
      "Epoch 4/100\n",
      "18624/18624 [==============================] - 0s 10us/step - loss: 0.2392 - acc: 0.9316 - val_loss: 0.1968 - val_acc: 0.9382\n",
      "Epoch 5/100\n",
      "18624/18624 [==============================] - 0s 10us/step - loss: 0.2298 - acc: 0.9356 - val_loss: 0.1927 - val_acc: 0.9392\n",
      "Epoch 6/100\n",
      "18624/18624 [==============================] - 0s 12us/step - loss: 0.2244 - acc: 0.9370 - val_loss: 0.1898 - val_acc: 0.9402\n",
      "Epoch 7/100\n",
      "18624/18624 [==============================] - 0s 10us/step - loss: 0.2220 - acc: 0.9360 - val_loss: 0.1871 - val_acc: 0.9412\n",
      "Epoch 8/100\n",
      "18624/18624 [==============================] - 0s 10us/step - loss: 0.2172 - acc: 0.9363 - val_loss: 0.1848 - val_acc: 0.9415\n",
      "Epoch 9/100\n",
      "18624/18624 [==============================] - 0s 10us/step - loss: 0.2136 - acc: 0.9378 - val_loss: 0.1837 - val_acc: 0.9414\n",
      "Epoch 10/100\n",
      "18624/18624 [==============================] - 0s 13us/step - loss: 0.2144 - acc: 0.9372 - val_loss: 0.1821 - val_acc: 0.9416\n",
      "Epoch 11/100\n",
      "18624/18624 [==============================] - 0s 18us/step - loss: 0.2119 - acc: 0.9383 - val_loss: 0.1813 - val_acc: 0.9411\n",
      "Epoch 12/100\n",
      "18624/18624 [==============================] - 0s 14us/step - loss: 0.2101 - acc: 0.9376 - val_loss: 0.1806 - val_acc: 0.9416\n",
      "Epoch 13/100\n",
      "18624/18624 [==============================] - 0s 14us/step - loss: 0.2083 - acc: 0.9378 - val_loss: 0.1796 - val_acc: 0.9419\n",
      "Epoch 14/100\n",
      "18624/18624 [==============================] - 0s 11us/step - loss: 0.2121 - acc: 0.9378 - val_loss: 0.1788 - val_acc: 0.9421\n",
      "Epoch 15/100\n",
      "18624/18624 [==============================] - 0s 10us/step - loss: 0.2069 - acc: 0.9388 - val_loss: 0.1797 - val_acc: 0.9417\n",
      "Epoch 16/100\n",
      "18624/18624 [==============================] - 0s 11us/step - loss: 0.2070 - acc: 0.9382 - val_loss: 0.1791 - val_acc: 0.9426\n",
      "Epoch 17/100\n",
      "18624/18624 [==============================] - 0s 12us/step - loss: 0.2077 - acc: 0.9393 - val_loss: 0.1782 - val_acc: 0.9422\n",
      "Epoch 18/100\n",
      "18624/18624 [==============================] - 0s 10us/step - loss: 0.2080 - acc: 0.9381 - val_loss: 0.1776 - val_acc: 0.9434\n",
      "Epoch 19/100\n",
      "18624/18624 [==============================] - 0s 11us/step - loss: 0.2070 - acc: 0.9382 - val_loss: 0.1787 - val_acc: 0.9432\n",
      "Epoch 20/100\n",
      "18624/18624 [==============================] - 0s 10us/step - loss: 0.2125 - acc: 0.9378 - val_loss: 0.1783 - val_acc: 0.9450\n",
      "Epoch 21/100\n",
      "18624/18624 [==============================] - 0s 11us/step - loss: 0.2073 - acc: 0.9370 - val_loss: 0.1771 - val_acc: 0.9439\n",
      "Epoch 22/100\n",
      "18624/18624 [==============================] - 0s 10us/step - loss: 0.2067 - acc: 0.9388 - val_loss: 0.1767 - val_acc: 0.9429\n",
      "Epoch 23/100\n",
      "18624/18624 [==============================] - 0s 11us/step - loss: 0.2096 - acc: 0.9392 - val_loss: 0.1769 - val_acc: 0.9447\n",
      "Epoch 24/100\n",
      "18624/18624 [==============================] - 0s 11us/step - loss: 0.2052 - acc: 0.9370 - val_loss: 0.1771 - val_acc: 0.9435\n",
      "Epoch 25/100\n",
      "18624/18624 [==============================] - 0s 10us/step - loss: 0.2078 - acc: 0.9377 - val_loss: 0.1772 - val_acc: 0.9450\n",
      "Epoch 26/100\n",
      "18624/18624 [==============================] - 0s 10us/step - loss: 0.2031 - acc: 0.9399 - val_loss: 0.1786 - val_acc: 0.9431\n",
      "Epoch 27/100\n",
      "18624/18624 [==============================] - 0s 10us/step - loss: 0.2064 - acc: 0.9400 - val_loss: 0.1778 - val_acc: 0.9431\n",
      "Epoch 28/100\n",
      "18624/18624 [==============================] - 0s 9us/step - loss: 0.2039 - acc: 0.9383 - val_loss: 0.1770 - val_acc: 0.9434\n",
      "Epoch 29/100\n",
      "18624/18624 [==============================] - 0s 10us/step - loss: 0.2046 - acc: 0.9389 - val_loss: 0.1773 - val_acc: 0.9456\n",
      "Epoch 30/100\n",
      "18624/18624 [==============================] - 0s 10us/step - loss: 0.2012 - acc: 0.9384 - val_loss: 0.1771 - val_acc: 0.9436\n",
      "Epoch 31/100\n",
      "18624/18624 [==============================] - 0s 11us/step - loss: 0.2033 - acc: 0.9389 - val_loss: 0.1765 - val_acc: 0.9423\n",
      "Epoch 32/100\n",
      "18624/18624 [==============================] - 0s 9us/step - loss: 0.2020 - acc: 0.9401 - val_loss: 0.1765 - val_acc: 0.9453\n",
      "Epoch 33/100\n",
      "18624/18624 [==============================] - 0s 10us/step - loss: 0.2024 - acc: 0.9400 - val_loss: 0.1763 - val_acc: 0.9455\n",
      "Epoch 34/100\n",
      "18624/18624 [==============================] - 0s 10us/step - loss: 0.2066 - acc: 0.9379 - val_loss: 0.1768 - val_acc: 0.9457\n",
      "Epoch 35/100\n",
      "18624/18624 [==============================] - 0s 14us/step - loss: 0.2009 - acc: 0.9387 - val_loss: 0.1769 - val_acc: 0.9458\n",
      "Epoch 36/100\n",
      "18624/18624 [==============================] - 0s 11us/step - loss: 0.1999 - acc: 0.9399 - val_loss: 0.1766 - val_acc: 0.9431\n",
      "Epoch 37/100\n",
      "18624/18624 [==============================] - 0s 22us/step - loss: 0.2054 - acc: 0.9384 - val_loss: 0.1756 - val_acc: 0.9431\n",
      "Epoch 38/100\n",
      "18624/18624 [==============================] - 0s 17us/step - loss: 0.2019 - acc: 0.9389 - val_loss: 0.1757 - val_acc: 0.9442\n",
      "Epoch 39/100\n",
      "18624/18624 [==============================] - 0s 12us/step - loss: 0.2039 - acc: 0.9396 - val_loss: 0.1770 - val_acc: 0.9455\n",
      "Epoch 40/100\n",
      "18624/18624 [==============================] - 0s 11us/step - loss: 0.2008 - acc: 0.9405 - val_loss: 0.1764 - val_acc: 0.9451\n",
      "Epoch 41/100\n",
      "18624/18624 [==============================] - 0s 9us/step - loss: 0.2054 - acc: 0.9381 - val_loss: 0.1761 - val_acc: 0.9426\n",
      "Epoch 42/100\n",
      "18624/18624 [==============================] - 0s 12us/step - loss: 0.2040 - acc: 0.9387 - val_loss: 0.1764 - val_acc: 0.9453\n",
      "Epoch 43/100\n",
      "18624/18624 [==============================] - 0s 22us/step - loss: 0.1990 - acc: 0.9397 - val_loss: 0.1771 - val_acc: 0.9417\n",
      "Epoch 44/100\n",
      "18624/18624 [==============================] - 0s 14us/step - loss: 0.2022 - acc: 0.9392 - val_loss: 0.1752 - val_acc: 0.9432\n",
      "Epoch 45/100\n",
      "18624/18624 [==============================] - 0s 12us/step - loss: 0.2018 - acc: 0.9390 - val_loss: 0.1774 - val_acc: 0.9457\n",
      "Epoch 46/100\n",
      "18624/18624 [==============================] - 0s 14us/step - loss: 0.2013 - acc: 0.9391 - val_loss: 0.1750 - val_acc: 0.9442\n",
      "Epoch 47/100\n",
      "18624/18624 [==============================] - 0s 12us/step - loss: 0.2048 - acc: 0.9394 - val_loss: 0.1750 - val_acc: 0.9446\n",
      "Epoch 48/100\n",
      "18624/18624 [==============================] - 0s 11us/step - loss: 0.2035 - acc: 0.9384 - val_loss: 0.1752 - val_acc: 0.9418\n",
      "Epoch 49/100\n",
      "18624/18624 [==============================] - 0s 10us/step - loss: 0.2014 - acc: 0.9398 - val_loss: 0.1773 - val_acc: 0.9408\n",
      "Epoch 50/100\n",
      "18624/18624 [==============================] - 0s 10us/step - loss: 0.2021 - acc: 0.9392 - val_loss: 0.1757 - val_acc: 0.9450\n",
      "Epoch 51/100\n",
      "18624/18624 [==============================] - 0s 11us/step - loss: 0.2030 - acc: 0.9391 - val_loss: 0.1766 - val_acc: 0.9454\n",
      "Epoch 52/100\n",
      "18624/18624 [==============================] - 0s 9us/step - loss: 0.2005 - acc: 0.9400 - val_loss: 0.1744 - val_acc: 0.9430\n",
      "Epoch 53/100\n",
      "18624/18624 [==============================] - 0s 9us/step - loss: 0.2017 - acc: 0.9389 - val_loss: 0.1756 - val_acc: 0.9433\n",
      "Epoch 54/100\n",
      "18624/18624 [==============================] - 0s 9us/step - loss: 0.2043 - acc: 0.9381 - val_loss: 0.1751 - val_acc: 0.9454\n",
      "Epoch 55/100\n",
      "18624/18624 [==============================] - 0s 10us/step - loss: 0.2039 - acc: 0.9405 - val_loss: 0.1753 - val_acc: 0.9442\n",
      "Epoch 56/100\n",
      "18624/18624 [==============================] - 0s 11us/step - loss: 0.2028 - acc: 0.9392 - val_loss: 0.1737 - val_acc: 0.9451\n",
      "Epoch 57/100\n",
      "18624/18624 [==============================] - 0s 9us/step - loss: 0.2011 - acc: 0.9403 - val_loss: 0.1750 - val_acc: 0.9454\n",
      "Epoch 58/100\n",
      "18624/18624 [==============================] - 0s 11us/step - loss: 0.2003 - acc: 0.9406 - val_loss: 0.1749 - val_acc: 0.9456\n",
      "Epoch 59/100\n",
      "18624/18624 [==============================] - 0s 10us/step - loss: 0.2018 - acc: 0.9386 - val_loss: 0.1753 - val_acc: 0.9423\n"
     ]
    },
    {
     "name": "stdout",
     "output_type": "stream",
     "text": [
      "Epoch 60/100\n",
      "18624/18624 [==============================] - 0s 10us/step - loss: 0.1988 - acc: 0.9399 - val_loss: 0.1762 - val_acc: 0.9416\n",
      "Epoch 61/100\n",
      "18624/18624 [==============================] - 0s 9us/step - loss: 0.2017 - acc: 0.9381 - val_loss: 0.1742 - val_acc: 0.9447\n",
      "Epoch 62/100\n",
      "18624/18624 [==============================] - 0s 10us/step - loss: 0.2011 - acc: 0.9383 - val_loss: 0.1742 - val_acc: 0.9447\n",
      "Epoch 63/100\n",
      "18624/18624 [==============================] - 0s 9us/step - loss: 0.2006 - acc: 0.9387 - val_loss: 0.1750 - val_acc: 0.9443\n",
      "Epoch 64/100\n",
      "18624/18624 [==============================] - 0s 10us/step - loss: 0.2032 - acc: 0.9394 - val_loss: 0.1759 - val_acc: 0.9460\n",
      "Epoch 65/100\n",
      "18624/18624 [==============================] - 0s 9us/step - loss: 0.2002 - acc: 0.9396 - val_loss: 0.1756 - val_acc: 0.9454\n",
      "Epoch 66/100\n",
      "18624/18624 [==============================] - 0s 9us/step - loss: 0.2016 - acc: 0.9380 - val_loss: 0.1767 - val_acc: 0.9460\n",
      "Epoch 67/100\n",
      "18624/18624 [==============================] - 0s 10us/step - loss: 0.2015 - acc: 0.9388 - val_loss: 0.1767 - val_acc: 0.9419\n",
      "Epoch 68/100\n",
      "18624/18624 [==============================] - 0s 9us/step - loss: 0.1998 - acc: 0.9393 - val_loss: 0.1781 - val_acc: 0.9453\n",
      "Epoch 69/100\n",
      "18624/18624 [==============================] - 0s 9us/step - loss: 0.1982 - acc: 0.9392 - val_loss: 0.1742 - val_acc: 0.9457\n",
      "Epoch 70/100\n",
      "18624/18624 [==============================] - 0s 10us/step - loss: 0.2015 - acc: 0.9407 - val_loss: 0.1742 - val_acc: 0.9440\n",
      "Epoch 71/100\n",
      "18624/18624 [==============================] - 0s 10us/step - loss: 0.2011 - acc: 0.9390 - val_loss: 0.1741 - val_acc: 0.9447\n",
      "Epoch 72/100\n",
      "18624/18624 [==============================] - 0s 10us/step - loss: 0.2004 - acc: 0.9409 - val_loss: 0.1748 - val_acc: 0.9450\n",
      "Epoch 73/100\n",
      "18624/18624 [==============================] - 0s 11us/step - loss: 0.2001 - acc: 0.9401 - val_loss: 0.1746 - val_acc: 0.9458\n",
      "Epoch 74/100\n",
      "18624/18624 [==============================] - 0s 9us/step - loss: 0.1997 - acc: 0.9393 - val_loss: 0.1752 - val_acc: 0.9459\n",
      "Epoch 75/100\n",
      "18624/18624 [==============================] - 0s 9us/step - loss: 0.1993 - acc: 0.9398 - val_loss: 0.1755 - val_acc: 0.9457\n",
      "Epoch 76/100\n",
      "18624/18624 [==============================] - 0s 9us/step - loss: 0.1998 - acc: 0.9407 - val_loss: 0.1737 - val_acc: 0.9445\n",
      "Epoch 77/100\n",
      "18624/18624 [==============================] - 0s 9us/step - loss: 0.2003 - acc: 0.9403 - val_loss: 0.1755 - val_acc: 0.9446\n",
      "Epoch 78/100\n",
      "18624/18624 [==============================] - 0s 9us/step - loss: 0.2026 - acc: 0.9393 - val_loss: 0.1790 - val_acc: 0.9451\n",
      "Epoch 79/100\n",
      "18624/18624 [==============================] - 0s 11us/step - loss: 0.2024 - acc: 0.9383 - val_loss: 0.1745 - val_acc: 0.9447\n",
      "Epoch 80/100\n",
      "18624/18624 [==============================] - 0s 10us/step - loss: 0.1990 - acc: 0.9400 - val_loss: 0.1759 - val_acc: 0.9454\n",
      "Epoch 81/100\n",
      "18624/18624 [==============================] - 0s 9us/step - loss: 0.2008 - acc: 0.9393 - val_loss: 0.1759 - val_acc: 0.9457\n",
      "Epoch 82/100\n",
      "18624/18624 [==============================] - 0s 9us/step - loss: 0.2022 - acc: 0.9394 - val_loss: 0.1749 - val_acc: 0.9432\n",
      "Epoch 83/100\n",
      "18624/18624 [==============================] - 0s 9us/step - loss: 0.1993 - acc: 0.9395 - val_loss: 0.1743 - val_acc: 0.9456\n",
      "Epoch 84/100\n",
      "18624/18624 [==============================] - 0s 9us/step - loss: 0.1967 - acc: 0.9395 - val_loss: 0.1758 - val_acc: 0.9446\n",
      "Epoch 85/100\n",
      "18624/18624 [==============================] - 0s 9us/step - loss: 0.1991 - acc: 0.9389 - val_loss: 0.1760 - val_acc: 0.9429\n",
      "Epoch 86/100\n",
      "18624/18624 [==============================] - 0s 9us/step - loss: 0.2013 - acc: 0.9400 - val_loss: 0.1759 - val_acc: 0.9456\n",
      "Epoch 87/100\n",
      "18624/18624 [==============================] - 0s 10us/step - loss: 0.1998 - acc: 0.9393 - val_loss: 0.1749 - val_acc: 0.9460\n",
      "Epoch 88/100\n",
      "18624/18624 [==============================] - 0s 10us/step - loss: 0.1995 - acc: 0.9403 - val_loss: 0.1773 - val_acc: 0.9419\n",
      "Epoch 89/100\n",
      "18624/18624 [==============================] - 0s 10us/step - loss: 0.2025 - acc: 0.9393 - val_loss: 0.1756 - val_acc: 0.9450\n",
      "Epoch 90/100\n",
      "18624/18624 [==============================] - 0s 10us/step - loss: 0.1988 - acc: 0.9399 - val_loss: 0.1754 - val_acc: 0.9421\n",
      "Epoch 91/100\n",
      "18624/18624 [==============================] - 0s 9us/step - loss: 0.1959 - acc: 0.9417 - val_loss: 0.1756 - val_acc: 0.9457\n",
      "Epoch 92/100\n",
      "18624/18624 [==============================] - 0s 9us/step - loss: 0.1986 - acc: 0.9397 - val_loss: 0.1741 - val_acc: 0.9451\n",
      "Epoch 93/100\n",
      "18624/18624 [==============================] - 0s 10us/step - loss: 0.1996 - acc: 0.9399 - val_loss: 0.1782 - val_acc: 0.9453\n",
      "Epoch 94/100\n",
      "18624/18624 [==============================] - 0s 9us/step - loss: 0.1983 - acc: 0.9389 - val_loss: 0.1755 - val_acc: 0.9430\n",
      "Epoch 95/100\n",
      "18624/18624 [==============================] - 0s 10us/step - loss: 0.2009 - acc: 0.9400 - val_loss: 0.1744 - val_acc: 0.9451\n",
      "Epoch 96/100\n",
      "18624/18624 [==============================] - 0s 10us/step - loss: 0.2027 - acc: 0.9392 - val_loss: 0.1743 - val_acc: 0.9453\n",
      "Epoch 97/100\n",
      "18624/18624 [==============================] - 0s 10us/step - loss: 0.2006 - acc: 0.9388 - val_loss: 0.1765 - val_acc: 0.9445\n",
      "Epoch 98/100\n",
      "18624/18624 [==============================] - 0s 10us/step - loss: 0.2001 - acc: 0.9381 - val_loss: 0.1741 - val_acc: 0.9446\n",
      "Epoch 99/100\n",
      "18624/18624 [==============================] - 0s 10us/step - loss: 0.1972 - acc: 0.9393 - val_loss: 0.1746 - val_acc: 0.9454\n",
      "Epoch 100/100\n",
      "18624/18624 [==============================] - 0s 10us/step - loss: 0.1966 - acc: 0.9396 - val_loss: 0.1750 - val_acc: 0.9454\n",
      "27798/27798 [==============================] - 0s 3us/step\n",
      "('Test Accuracy', [0.17029479365570441, 0.94585941426487596])\n",
      "\n",
      "acc: 94.59%\n"
     ]
    }
   ],
   "source": [
    "#compile Model\n",
    "DNNmodel.compile(loss='binary_crossentropy', optimizer='rmsprop', metrics=['accuracy'])\n",
    "# 3-fold validations\n",
    "history=DNNmodel.fit(X_train, dummy_y,validation_split=0.33,\n",
    "          epochs=100, batch_size=256)\n",
    "#DNNmodel.summary()\n",
    "\n",
    "#evaluation\n",
    "score = DNNmodel.evaluate(X_train, dummy_y, batch_size=256)\n",
    "print(\"Test Accuracy\",score)\n",
    "print(\"\\n%s: %.2f%%\" % (DNNmodel.metrics_names[1], score[1]*100))\n",
    "\n",
    "#store the model weights and bias\n",
    "W=DNNmodel.get_weights()\n",
    "pickle.dump(W,open(r\"W_exp_drebin.pickle\",\"wb\"))"
   ]
  },
  {
   "cell_type": "code",
   "execution_count": null,
   "metadata": {},
   "outputs": [],
   "source": [
    "#thresh=15 acc: 88.67%\n",
    "#thres=12  acc: 90.05%\n",
    "#thresh=8  acc: 94.75%"
   ]
  },
  {
   "cell_type": "code",
   "execution_count": 42,
   "metadata": {},
   "outputs": [],
   "source": [
    "y_pred = DNNmodel.predict(X_test)\n",
    "y_pred_am = np.argmax(y_pred, axis=1)\n",
    "\n",
    "tp=0\n",
    "fp=0\n",
    "tn=0\n",
    "fn=0\n",
    "\n",
    "for i in range(len(y_pred_am)):\n",
    "    if y_test[i][0] == 1:\n",
    "        if y_pred_am[i] == y_test[i]:\n",
    "            tp = tp+1\n",
    "        else:\n",
    "            fn = fn+1\n",
    "    \n",
    "    elif y_test[i][0] == 0:\n",
    "        if y_pred_am[i] == y_test[i]:\n",
    "            tn = tn+1\n",
    "        else:\n",
    "            fp = fp+1"
   ]
  },
  {
   "cell_type": "code",
   "execution_count": 46,
   "metadata": {},
   "outputs": [
    {
     "name": "stdout",
     "output_type": "stream",
     "text": [
      "false positives: 390 out of 6405 possible negatives (benign)\n",
      "false negatives: 341 out of 7287 possible positives (adversarial)\n",
      "precision: 94.6837513631%\n",
      "recall: 95.320433649%\n"
     ]
    }
   ],
   "source": [
    "print('false positives: {} out of {} possible negatives (benign)'.format(fp, fp+tn))\n",
    "print('false negatives: {} out of {} possible positives (adversarial)'.format(fn, fn+tp))\n",
    "print('precision: {}%'.format(tp*100.0/(tp+fp)))\n",
    "print('recall: {}%'.format(tp*100.0/(tp+fn)))"
   ]
  },
  {
   "cell_type": "code",
   "execution_count": null,
   "metadata": {},
   "outputs": [],
   "source": []
  }
 ],
 "metadata": {
  "kernelspec": {
   "display_name": "Python 2",
   "language": "python",
   "name": "python2"
  },
  "language_info": {
   "codemirror_mode": {
    "name": "ipython",
    "version": 2
   },
   "file_extension": ".py",
   "mimetype": "text/x-python",
   "name": "python",
   "nbconvert_exporter": "python",
   "pygments_lexer": "ipython2",
   "version": "2.7.3"
  }
 },
 "nbformat": 4,
 "nbformat_minor": 2
}
